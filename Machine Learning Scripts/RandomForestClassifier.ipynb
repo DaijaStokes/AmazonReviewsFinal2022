{
 "cells": [
  {
   "cell_type": "code",
   "execution_count": 1,
   "id": "774acbfa",
   "metadata": {},
   "outputs": [],
   "source": [
    "import pandas as pd\n",
    "import numpy as np\n",
    "import matplotlib.pyplot as plt \n",
    "import nltk\n",
    "import re\n",
    "from nltk.corpus import stopwords\n",
    "\n",
    "product_reviews_df = pd.read_csv('textReviews.csv')"
   ]
  },
  {
   "cell_type": "code",
   "execution_count": 2,
   "id": "03194536",
   "metadata": {},
   "outputs": [],
   "source": [
    "stop_words = stopwords.words(\"english\")"
   ]
  },
  {
   "cell_type": "code",
   "execution_count": 3,
   "id": "69b8f84b",
   "metadata": {},
   "outputs": [],
   "source": [
    "# Concatenate the reviewText column with the summary column\n",
    "product_reviews_df[\"Review\"] = product_reviews_df['reviewText'] + product_reviews_df['summary']"
   ]
  },
  {
   "cell_type": "code",
   "execution_count": 4,
   "id": "27377b42",
   "metadata": {},
   "outputs": [
    {
     "data": {
      "text/html": [
       "<div>\n",
       "<style scoped>\n",
       "    .dataframe tbody tr th:only-of-type {\n",
       "        vertical-align: middle;\n",
       "    }\n",
       "\n",
       "    .dataframe tbody tr th {\n",
       "        vertical-align: top;\n",
       "    }\n",
       "\n",
       "    .dataframe thead th {\n",
       "        text-align: right;\n",
       "    }\n",
       "</style>\n",
       "<table border=\"1\" class=\"dataframe\">\n",
       "  <thead>\n",
       "    <tr style=\"text-align: right;\">\n",
       "      <th></th>\n",
       "      <th>reviewNumber</th>\n",
       "      <th>overall</th>\n",
       "      <th>vote</th>\n",
       "      <th>asin</th>\n",
       "      <th>reviewTime</th>\n",
       "      <th>reviewText</th>\n",
       "      <th>summary</th>\n",
       "      <th>Review</th>\n",
       "    </tr>\n",
       "  </thead>\n",
       "  <tbody>\n",
       "    <tr>\n",
       "      <th>0</th>\n",
       "      <td>0</td>\n",
       "      <td>4</td>\n",
       "      <td>0.0</td>\n",
       "      <td>0321719816</td>\n",
       "      <td>2010-10-20</td>\n",
       "      <td>I've been using Dreamweaver (and it's predeces...</td>\n",
       "      <td>A solid overview of Dreamweaver CS5</td>\n",
       "      <td>I've been using Dreamweaver (and it's predeces...</td>\n",
       "    </tr>\n",
       "    <tr>\n",
       "      <th>1</th>\n",
       "      <td>1</td>\n",
       "      <td>4</td>\n",
       "      <td>0.0</td>\n",
       "      <td>0321719816</td>\n",
       "      <td>2010-10-18</td>\n",
       "      <td>The demo is done with the PC version, with ref...</td>\n",
       "      <td>A good value</td>\n",
       "      <td>The demo is done with the PC version, with ref...</td>\n",
       "    </tr>\n",
       "    <tr>\n",
       "      <th>2</th>\n",
       "      <td>2</td>\n",
       "      <td>5</td>\n",
       "      <td>3.0</td>\n",
       "      <td>0321719816</td>\n",
       "      <td>2010-10-16</td>\n",
       "      <td>If you've been wanting to learn how to create ...</td>\n",
       "      <td>This is excellent software for those who want ...</td>\n",
       "      <td>If you've been wanting to learn how to create ...</td>\n",
       "    </tr>\n",
       "    <tr>\n",
       "      <th>3</th>\n",
       "      <td>3</td>\n",
       "      <td>5</td>\n",
       "      <td>0.0</td>\n",
       "      <td>0321719816</td>\n",
       "      <td>2010-10-12</td>\n",
       "      <td>I've been creating websites with Dreamweaver f...</td>\n",
       "      <td>A Fantastic Overview of Dream Weaver and Web D...</td>\n",
       "      <td>I've been creating websites with Dreamweaver f...</td>\n",
       "    </tr>\n",
       "    <tr>\n",
       "      <th>4</th>\n",
       "      <td>4</td>\n",
       "      <td>5</td>\n",
       "      <td>0.0</td>\n",
       "      <td>0321719816</td>\n",
       "      <td>2010-10-07</td>\n",
       "      <td>I decided (after trying a number of other prod...</td>\n",
       "      <td>Excellent Tutorials!</td>\n",
       "      <td>I decided (after trying a number of other prod...</td>\n",
       "    </tr>\n",
       "  </tbody>\n",
       "</table>\n",
       "</div>"
      ],
      "text/plain": [
       "   reviewNumber  overall  vote        asin  reviewTime  \\\n",
       "0             0        4   0.0  0321719816  2010-10-20   \n",
       "1             1        4   0.0  0321719816  2010-10-18   \n",
       "2             2        5   3.0  0321719816  2010-10-16   \n",
       "3             3        5   0.0  0321719816  2010-10-12   \n",
       "4             4        5   0.0  0321719816  2010-10-07   \n",
       "\n",
       "                                          reviewText  \\\n",
       "0  I've been using Dreamweaver (and it's predeces...   \n",
       "1  The demo is done with the PC version, with ref...   \n",
       "2  If you've been wanting to learn how to create ...   \n",
       "3  I've been creating websites with Dreamweaver f...   \n",
       "4  I decided (after trying a number of other prod...   \n",
       "\n",
       "                                             summary  \\\n",
       "0                A solid overview of Dreamweaver CS5   \n",
       "1                                       A good value   \n",
       "2  This is excellent software for those who want ...   \n",
       "3  A Fantastic Overview of Dream Weaver and Web D...   \n",
       "4                               Excellent Tutorials!   \n",
       "\n",
       "                                              Review  \n",
       "0  I've been using Dreamweaver (and it's predeces...  \n",
       "1  The demo is done with the PC version, with ref...  \n",
       "2  If you've been wanting to learn how to create ...  \n",
       "3  I've been creating websites with Dreamweaver f...  \n",
       "4  I decided (after trying a number of other prod...  "
      ]
     },
     "execution_count": 4,
     "metadata": {},
     "output_type": "execute_result"
    }
   ],
   "source": [
    "product_reviews_df.head()"
   ]
  },
  {
   "cell_type": "code",
   "execution_count": 5,
   "id": "c91ff7bc",
   "metadata": {},
   "outputs": [
    {
     "data": {
      "text/plain": [
       "\"I've been using Dreamweaver (and it's predecessor Macromedia's UltraDev) for many years.  For someone who is an experienced web designer, this course is a high-level review of the CS5 version of Dreamweaver, but it doesn't go into a great enough level of detail to find it very useful.\\n\\nOn the other hand, this is a great tool for someone who is a relative novice at web design.  It starts off with a basic overview of HTML and continues through the concepts necessary to build a modern web site.  Someone who goes through this course should exit with enough knowledge to create something that does what you want it do do...within reason.  Don't expect to go off and build an entire e-commerce system with only this class under your belt.\\n\\nIt's important to note that there's a long gap from site design to actual implementation.  This course teaches you how to implement a design.  The user interface and overall user experience is a different subject that isn't covered here...it's possible to do a great implementation of an absolutely abysmal design.  I speak from experience.  :)\\n\\nAs I said above, if you're a novice, a relative newcomer or just an experienced web designer who wants a refresher course, this is a good way to do it.A solid overview of Dreamweaver CS5\""
      ]
     },
     "execution_count": 5,
     "metadata": {},
     "output_type": "execute_result"
    }
   ],
   "source": [
    "product_reviews_df['Review'][0]"
   ]
  },
  {
   "cell_type": "code",
   "execution_count": 35,
   "id": "faf6dce9",
   "metadata": {},
   "outputs": [],
   "source": [
    "def f(row):\n",
    "    \n",
    "    if row['overall'] == 3.0:\n",
    "        val = 0\n",
    "    elif row['overall'] == 1.0 or row['overall'] == 2.0:\n",
    "        val = -1\n",
    "    elif row['overall'] == 4.0 or row['overall'] == 5.0:\n",
    "        val = 1\n",
    "    else:\n",
    "        val = 0\n",
    "    return val"
   ]
  },
  {
   "cell_type": "code",
   "execution_count": 7,
   "id": "da2a3c64",
   "metadata": {},
   "outputs": [
    {
     "data": {
      "text/html": [
       "<div>\n",
       "<style scoped>\n",
       "    .dataframe tbody tr th:only-of-type {\n",
       "        vertical-align: middle;\n",
       "    }\n",
       "\n",
       "    .dataframe tbody tr th {\n",
       "        vertical-align: top;\n",
       "    }\n",
       "\n",
       "    .dataframe thead th {\n",
       "        text-align: right;\n",
       "    }\n",
       "</style>\n",
       "<table border=\"1\" class=\"dataframe\">\n",
       "  <thead>\n",
       "    <tr style=\"text-align: right;\">\n",
       "      <th></th>\n",
       "      <th>reviewNumber</th>\n",
       "      <th>overall</th>\n",
       "      <th>vote</th>\n",
       "      <th>asin</th>\n",
       "      <th>reviewTime</th>\n",
       "      <th>reviewText</th>\n",
       "      <th>summary</th>\n",
       "      <th>Review</th>\n",
       "      <th>sentiment</th>\n",
       "    </tr>\n",
       "  </thead>\n",
       "  <tbody>\n",
       "    <tr>\n",
       "      <th>0</th>\n",
       "      <td>0</td>\n",
       "      <td>4</td>\n",
       "      <td>0.0</td>\n",
       "      <td>0321719816</td>\n",
       "      <td>2010-10-20</td>\n",
       "      <td>I've been using Dreamweaver (and it's predeces...</td>\n",
       "      <td>A solid overview of Dreamweaver CS5</td>\n",
       "      <td>I've been using Dreamweaver (and it's predeces...</td>\n",
       "      <td>1</td>\n",
       "    </tr>\n",
       "    <tr>\n",
       "      <th>1</th>\n",
       "      <td>1</td>\n",
       "      <td>4</td>\n",
       "      <td>0.0</td>\n",
       "      <td>0321719816</td>\n",
       "      <td>2010-10-18</td>\n",
       "      <td>The demo is done with the PC version, with ref...</td>\n",
       "      <td>A good value</td>\n",
       "      <td>The demo is done with the PC version, with ref...</td>\n",
       "      <td>1</td>\n",
       "    </tr>\n",
       "    <tr>\n",
       "      <th>2</th>\n",
       "      <td>2</td>\n",
       "      <td>5</td>\n",
       "      <td>3.0</td>\n",
       "      <td>0321719816</td>\n",
       "      <td>2010-10-16</td>\n",
       "      <td>If you've been wanting to learn how to create ...</td>\n",
       "      <td>This is excellent software for those who want ...</td>\n",
       "      <td>If you've been wanting to learn how to create ...</td>\n",
       "      <td>1</td>\n",
       "    </tr>\n",
       "    <tr>\n",
       "      <th>3</th>\n",
       "      <td>3</td>\n",
       "      <td>5</td>\n",
       "      <td>0.0</td>\n",
       "      <td>0321719816</td>\n",
       "      <td>2010-10-12</td>\n",
       "      <td>I've been creating websites with Dreamweaver f...</td>\n",
       "      <td>A Fantastic Overview of Dream Weaver and Web D...</td>\n",
       "      <td>I've been creating websites with Dreamweaver f...</td>\n",
       "      <td>1</td>\n",
       "    </tr>\n",
       "    <tr>\n",
       "      <th>4</th>\n",
       "      <td>4</td>\n",
       "      <td>5</td>\n",
       "      <td>0.0</td>\n",
       "      <td>0321719816</td>\n",
       "      <td>2010-10-07</td>\n",
       "      <td>I decided (after trying a number of other prod...</td>\n",
       "      <td>Excellent Tutorials!</td>\n",
       "      <td>I decided (after trying a number of other prod...</td>\n",
       "      <td>1</td>\n",
       "    </tr>\n",
       "  </tbody>\n",
       "</table>\n",
       "</div>"
      ],
      "text/plain": [
       "   reviewNumber  overall  vote        asin  reviewTime  \\\n",
       "0             0        4   0.0  0321719816  2010-10-20   \n",
       "1             1        4   0.0  0321719816  2010-10-18   \n",
       "2             2        5   3.0  0321719816  2010-10-16   \n",
       "3             3        5   0.0  0321719816  2010-10-12   \n",
       "4             4        5   0.0  0321719816  2010-10-07   \n",
       "\n",
       "                                          reviewText  \\\n",
       "0  I've been using Dreamweaver (and it's predeces...   \n",
       "1  The demo is done with the PC version, with ref...   \n",
       "2  If you've been wanting to learn how to create ...   \n",
       "3  I've been creating websites with Dreamweaver f...   \n",
       "4  I decided (after trying a number of other prod...   \n",
       "\n",
       "                                             summary  \\\n",
       "0                A solid overview of Dreamweaver CS5   \n",
       "1                                       A good value   \n",
       "2  This is excellent software for those who want ...   \n",
       "3  A Fantastic Overview of Dream Weaver and Web D...   \n",
       "4                               Excellent Tutorials!   \n",
       "\n",
       "                                              Review  sentiment  \n",
       "0  I've been using Dreamweaver (and it's predeces...          1  \n",
       "1  The demo is done with the PC version, with ref...          1  \n",
       "2  If you've been wanting to learn how to create ...          1  \n",
       "3  I've been creating websites with Dreamweaver f...          1  \n",
       "4  I decided (after trying a number of other prod...          1  "
      ]
     },
     "execution_count": 7,
     "metadata": {},
     "output_type": "execute_result"
    }
   ],
   "source": [
    "product_reviews_df[\"sentiment\"] = product_reviews_df.apply(f, axis=1)\n",
    "product_reviews_df.head()"
   ]
  },
  {
   "cell_type": "code",
   "execution_count": 8,
   "id": "cc18c33b",
   "metadata": {},
   "outputs": [
    {
     "data": {
      "text/plain": [
       " 1    8981\n",
       "-1    2219\n",
       " 0    1598\n",
       "Name: sentiment, dtype: int64"
      ]
     },
     "execution_count": 8,
     "metadata": {},
     "output_type": "execute_result"
    }
   ],
   "source": [
    "product_reviews_df['sentiment'].value_counts()"
   ]
  },
  {
   "cell_type": "code",
   "execution_count": 10,
   "id": "83e5d475",
   "metadata": {},
   "outputs": [
    {
     "data": {
      "text/html": [
       "<div>\n",
       "<style scoped>\n",
       "    .dataframe tbody tr th:only-of-type {\n",
       "        vertical-align: middle;\n",
       "    }\n",
       "\n",
       "    .dataframe tbody tr th {\n",
       "        vertical-align: top;\n",
       "    }\n",
       "\n",
       "    .dataframe thead th {\n",
       "        text-align: right;\n",
       "    }\n",
       "</style>\n",
       "<table border=\"1\" class=\"dataframe\">\n",
       "  <thead>\n",
       "    <tr style=\"text-align: right;\">\n",
       "      <th></th>\n",
       "      <th>Review</th>\n",
       "      <th>sentiment</th>\n",
       "    </tr>\n",
       "  </thead>\n",
       "  <tbody>\n",
       "    <tr>\n",
       "      <th>0</th>\n",
       "      <td>I've been using Dreamweaver (and it's predeces...</td>\n",
       "      <td>1</td>\n",
       "    </tr>\n",
       "    <tr>\n",
       "      <th>1</th>\n",
       "      <td>The demo is done with the PC version, with ref...</td>\n",
       "      <td>1</td>\n",
       "    </tr>\n",
       "    <tr>\n",
       "      <th>2</th>\n",
       "      <td>If you've been wanting to learn how to create ...</td>\n",
       "      <td>1</td>\n",
       "    </tr>\n",
       "    <tr>\n",
       "      <th>3</th>\n",
       "      <td>I've been creating websites with Dreamweaver f...</td>\n",
       "      <td>1</td>\n",
       "    </tr>\n",
       "    <tr>\n",
       "      <th>4</th>\n",
       "      <td>I decided (after trying a number of other prod...</td>\n",
       "      <td>1</td>\n",
       "    </tr>\n",
       "    <tr>\n",
       "      <th>...</th>\n",
       "      <td>...</td>\n",
       "      <td>...</td>\n",
       "    </tr>\n",
       "    <tr>\n",
       "      <th>12793</th>\n",
       "      <td>When I ordered this it was listed as Photo Edi...</td>\n",
       "      <td>1</td>\n",
       "    </tr>\n",
       "    <tr>\n",
       "      <th>12794</th>\n",
       "      <td>This software has SO much going on.  Theres a ...</td>\n",
       "      <td>0</td>\n",
       "    </tr>\n",
       "    <tr>\n",
       "      <th>12795</th>\n",
       "      <td>I have used both more complex and less complex...</td>\n",
       "      <td>1</td>\n",
       "    </tr>\n",
       "    <tr>\n",
       "      <th>12796</th>\n",
       "      <td>Pinnacle Studio 20 Ultimate is a perfectly ser...</td>\n",
       "      <td>0</td>\n",
       "    </tr>\n",
       "    <tr>\n",
       "      <th>12797</th>\n",
       "      <td>A program that is fairly easy to use and provi...</td>\n",
       "      <td>1</td>\n",
       "    </tr>\n",
       "  </tbody>\n",
       "</table>\n",
       "<p>12798 rows × 2 columns</p>\n",
       "</div>"
      ],
      "text/plain": [
       "                                                  Review  sentiment\n",
       "0      I've been using Dreamweaver (and it's predeces...          1\n",
       "1      The demo is done with the PC version, with ref...          1\n",
       "2      If you've been wanting to learn how to create ...          1\n",
       "3      I've been creating websites with Dreamweaver f...          1\n",
       "4      I decided (after trying a number of other prod...          1\n",
       "...                                                  ...        ...\n",
       "12793  When I ordered this it was listed as Photo Edi...          1\n",
       "12794  This software has SO much going on.  Theres a ...          0\n",
       "12795  I have used both more complex and less complex...          1\n",
       "12796  Pinnacle Studio 20 Ultimate is a perfectly ser...          0\n",
       "12797  A program that is fairly easy to use and provi...          1\n",
       "\n",
       "[12798 rows x 2 columns]"
      ]
     },
     "execution_count": 10,
     "metadata": {},
     "output_type": "execute_result"
    }
   ],
   "source": [
    "product_reviews_new_df = product_reviews_df.drop(['reviewNumber', 'reviewTime','reviewText','summary','asin','overall','vote'], axis=1)\n",
    "product_reviews_new_df"
   ]
  },
  {
   "cell_type": "code",
   "execution_count": 11,
   "id": "94621c69",
   "metadata": {},
   "outputs": [
    {
     "data": {
      "text/plain": [
       " 1    8981\n",
       "-1    2219\n",
       " 0    1598\n",
       "Name: sentiment, dtype: int64"
      ]
     },
     "execution_count": 11,
     "metadata": {},
     "output_type": "execute_result"
    }
   ],
   "source": [
    "product_reviews_df['sentiment'].value_counts()"
   ]
  },
  {
   "cell_type": "code",
   "execution_count": 12,
   "id": "dc12f6a4",
   "metadata": {},
   "outputs": [
    {
     "data": {
      "text/html": [
       "<div>\n",
       "<style scoped>\n",
       "    .dataframe tbody tr th:only-of-type {\n",
       "        vertical-align: middle;\n",
       "    }\n",
       "\n",
       "    .dataframe tbody tr th {\n",
       "        vertical-align: top;\n",
       "    }\n",
       "\n",
       "    .dataframe thead th {\n",
       "        text-align: right;\n",
       "    }\n",
       "</style>\n",
       "<table border=\"1\" class=\"dataframe\">\n",
       "  <thead>\n",
       "    <tr style=\"text-align: right;\">\n",
       "      <th></th>\n",
       "      <th>Review</th>\n",
       "      <th>sentiment</th>\n",
       "    </tr>\n",
       "  </thead>\n",
       "  <tbody>\n",
       "    <tr>\n",
       "      <th>0</th>\n",
       "      <td>I've been using Dreamweaver (and it's predeces...</td>\n",
       "      <td>1</td>\n",
       "    </tr>\n",
       "    <tr>\n",
       "      <th>1</th>\n",
       "      <td>The demo is done with the PC version, with ref...</td>\n",
       "      <td>1</td>\n",
       "    </tr>\n",
       "    <tr>\n",
       "      <th>2</th>\n",
       "      <td>If you've been wanting to learn how to create ...</td>\n",
       "      <td>1</td>\n",
       "    </tr>\n",
       "    <tr>\n",
       "      <th>3</th>\n",
       "      <td>I've been creating websites with Dreamweaver f...</td>\n",
       "      <td>1</td>\n",
       "    </tr>\n",
       "    <tr>\n",
       "      <th>4</th>\n",
       "      <td>I decided (after trying a number of other prod...</td>\n",
       "      <td>1</td>\n",
       "    </tr>\n",
       "    <tr>\n",
       "      <th>...</th>\n",
       "      <td>...</td>\n",
       "      <td>...</td>\n",
       "    </tr>\n",
       "    <tr>\n",
       "      <th>12793</th>\n",
       "      <td>When I ordered this it was listed as Photo Edi...</td>\n",
       "      <td>1</td>\n",
       "    </tr>\n",
       "    <tr>\n",
       "      <th>12794</th>\n",
       "      <td>This software has SO much going on.  Theres a ...</td>\n",
       "      <td>0</td>\n",
       "    </tr>\n",
       "    <tr>\n",
       "      <th>12795</th>\n",
       "      <td>I have used both more complex and less complex...</td>\n",
       "      <td>1</td>\n",
       "    </tr>\n",
       "    <tr>\n",
       "      <th>12796</th>\n",
       "      <td>Pinnacle Studio 20 Ultimate is a perfectly ser...</td>\n",
       "      <td>0</td>\n",
       "    </tr>\n",
       "    <tr>\n",
       "      <th>12797</th>\n",
       "      <td>A program that is fairly easy to use and provi...</td>\n",
       "      <td>1</td>\n",
       "    </tr>\n",
       "  </tbody>\n",
       "</table>\n",
       "<p>12798 rows × 2 columns</p>\n",
       "</div>"
      ],
      "text/plain": [
       "                                                  Review  sentiment\n",
       "0      I've been using Dreamweaver (and it's predeces...          1\n",
       "1      The demo is done with the PC version, with ref...          1\n",
       "2      If you've been wanting to learn how to create ...          1\n",
       "3      I've been creating websites with Dreamweaver f...          1\n",
       "4      I decided (after trying a number of other prod...          1\n",
       "...                                                  ...        ...\n",
       "12793  When I ordered this it was listed as Photo Edi...          1\n",
       "12794  This software has SO much going on.  Theres a ...          0\n",
       "12795  I have used both more complex and less complex...          1\n",
       "12796  Pinnacle Studio 20 Ultimate is a perfectly ser...          0\n",
       "12797  A program that is fairly easy to use and provi...          1\n",
       "\n",
       "[12798 rows x 2 columns]"
      ]
     },
     "execution_count": 12,
     "metadata": {},
     "output_type": "execute_result"
    }
   ],
   "source": [
    "product_reviews_new_df = product_reviews_df.drop(['reviewNumber', 'reviewTime','reviewText','summary','asin','overall','vote'], axis=1)\n",
    "product_reviews_new_df"
   ]
  },
  {
   "cell_type": "code",
   "execution_count": 13,
   "id": "3082c750",
   "metadata": {},
   "outputs": [
    {
     "data": {
      "text/plain": [
       "(12798, 2)"
      ]
     },
     "execution_count": 13,
     "metadata": {},
     "output_type": "execute_result"
    }
   ],
   "source": [
    "product_reviews_new_df.shape"
   ]
  },
  {
   "cell_type": "code",
   "execution_count": 14,
   "id": "0f81a491",
   "metadata": {},
   "outputs": [],
   "source": [
    "product_reviews_new_df.drop(product_reviews_new_df[(product_reviews_new_df['sentiment'] == 0)].index, inplace=True)"
   ]
  },
  {
   "cell_type": "code",
   "execution_count": 15,
   "id": "c6a5297a",
   "metadata": {},
   "outputs": [
    {
     "data": {
      "text/plain": [
       "(11200, 2)"
      ]
     },
     "execution_count": 15,
     "metadata": {},
     "output_type": "execute_result"
    }
   ],
   "source": [
    "product_reviews_new_df.shape"
   ]
  },
  {
   "cell_type": "code",
   "execution_count": 16,
   "id": "60ecb0c8",
   "metadata": {},
   "outputs": [],
   "source": [
    "contractions = { \n",
    "\"ain't\": \"am not / are not / is not / has not / have not\",\n",
    "\"aren't\": \"are not / am not\",\n",
    "\"can't\": \"cannot\",\n",
    "\"can't've\": \"cannot have\",\n",
    "\"'cause\": \"because\",\n",
    "\"could've\": \"could have\",\n",
    "\"couldn't\": \"could not\",\n",
    "\"couldn't've\": \"could not have\",\n",
    "\"didn't\": \"did not\",\n",
    "\"doesn't\": \"does not\",\n",
    "\"don't\": \"do not\",\n",
    "\"hadn't\": \"had not\",\n",
    "\"hadn't've\": \"had not have\",\n",
    "\"hasn't\": \"has not\",\n",
    "\"haven't\": \"have not\",\n",
    "\"he'd\": \"he had / he would\",\n",
    "\"he'd've\": \"he would have\",\n",
    "\"he'll\": \"he shall / he will\",\n",
    "\"he'll've\": \"he shall have / he will have\",\n",
    "\"he's\": \"he has / he is\",\n",
    "\"how'd\": \"how did\",\n",
    "\"how'd'y\": \"how do you\",\n",
    "\"how'll\": \"how will\",\n",
    "\"how's\": \"how has / how is / how does\",\n",
    "\"I'd\": \"I had / I would\",\n",
    "\"I'd've\": \"I would have\",\n",
    "\"I'll\": \"I shall / I will\",\n",
    "\"I'll've\": \"I shall have / I will have\",\n",
    "\"I'm\": \"I am\",\n",
    "\"I've\": \"I have\",\n",
    "\"isn't\": \"is not\",\n",
    "\"it'd\": \"it had / it would\",\n",
    "\"it'd've\": \"it would have\",\n",
    "\"it'll\": \"it shall / it will\",\n",
    "\"it'll've\": \"it shall have / it will have\",\n",
    "\"it's\": \"it has / it is\",\n",
    "\"let's\": \"let us\",\n",
    "\"ma'am\": \"madam\",\n",
    "\"mayn't\": \"may not\",\n",
    "\"might've\": \"might have\",\n",
    "\"mightn't\": \"might not\",\n",
    "\"mightn't've\": \"might not have\",\n",
    "\"must've\": \"must have\",\n",
    "\"mustn't\": \"must not\",\n",
    "\"mustn't've\": \"must not have\",\n",
    "\"needn't\": \"need not\",\n",
    "\"needn't've\": \"need not have\",\n",
    "\"o'clock\": \"of the clock\",\n",
    "\"oughtn't\": \"ought not\",\n",
    "\"oughtn't've\": \"ought not have\",\n",
    "\"shan't\": \"shall not\",\n",
    "\"sha'n't\": \"shall not\",\n",
    "\"shan't've\": \"shall not have\",\n",
    "\"she'd\": \"she had / she would\",\n",
    "\"she'd've\": \"she would have\",\n",
    "\"she'll\": \"she shall / she will\",\n",
    "\"she'll've\": \"she shall have / she will have\",\n",
    "\"she's\": \"she has / she is\",\n",
    "\"should've\": \"should have\",\n",
    "\"shouldn't\": \"should not\",\n",
    "\"shouldn't've\": \"should not have\",\n",
    "\"so've\": \"so have\",\n",
    "\"so's\": \"so as / so is\",\n",
    "\"that'd\": \"that would / that had\",\n",
    "\"that'd've\": \"that would have\",\n",
    "\"that's\": \"that has / that is\",\n",
    "\"there'd\": \"there had / there would\",\n",
    "\"there'd've\": \"there would have\",\n",
    "\"there's\": \"there has / there is\",\n",
    "\"they'd\": \"they had / they would\",\n",
    "\"they'd've\": \"they would have\",\n",
    "\"they'll\": \"they shall / they will\",\n",
    "\"they'll've\": \"they shall have / they will have\",\n",
    "\"they're\": \"they are\",\n",
    "\"they've\": \"they have\",\n",
    "\"to've\": \"to have\",\n",
    "\"wasn't\": \"was not\",\n",
    "\"we'd\": \"we had / we would\",\n",
    "\"we'd've\": \"we would have\",\n",
    "\"we'll\": \"we will\",\n",
    "\"we'll've\": \"we will have\",\n",
    "\"we're\": \"we are\",\n",
    "\"we've\": \"we have\",\n",
    "\"weren't\": \"were not\",\n",
    "\"what'll\": \"what shall / what will\",\n",
    "\"what'll've\": \"what shall have / what will have\",\n",
    "\"what're\": \"what are\",\n",
    "\"what's\": \"what has / what is\",\n",
    "\"what've\": \"what have\",\n",
    "\"when's\": \"when has / when is\",\n",
    "\"when've\": \"when have\",\n",
    "\"where'd\": \"where did\",\n",
    "\"where's\": \"where has / where is\",\n",
    "\"where've\": \"where have\",\n",
    "\"who'll\": \"who shall / who will\",\n",
    "\"who'll've\": \"who shall have / who will have\",\n",
    "\"who's\": \"who has / who is\",\n",
    "\"who've\": \"who have\",\n",
    "\"why's\": \"why has / why is\",\n",
    "\"why've\": \"why have\",\n",
    "\"will've\": \"will have\",\n",
    "\"won't\": \"will not\",\n",
    "\"won't've\": \"will not have\",\n",
    "\"would've\": \"would have\",\n",
    "\"wouldn't\": \"would not\",\n",
    "\"wouldn't've\": \"would not have\",\n",
    "\"y'all\": \"you all\",\n",
    "\"y'all'd\": \"you all would\",\n",
    "\"y'all'd've\": \"you all would have\",\n",
    "\"y'all're\": \"you all are\",\n",
    "\"y'all've\": \"you all have\",\n",
    "\"you'd\": \"you had / you would\",\n",
    "\"you'd've\": \"you would have\",\n",
    "\"you'll\": \"you shall / you will\",\n",
    "\"you'll've\": \"you shall have / you will have\",\n",
    "\"you're\": \"you are\",\n",
    "\"you've\": \"you have\"\n",
    "}"
   ]
  },
  {
   "cell_type": "code",
   "execution_count": 17,
   "id": "7f3e9921",
   "metadata": {},
   "outputs": [],
   "source": [
    "def clean_text(text, remove_stopwords = True):\n",
    "    '''Remove unwanted characters, stopwords, and format the text to create fewer nulls word embeddings'''\n",
    "    \n",
    "    # Convert words to lower case\n",
    "    text = text.lower()\n",
    "    \n",
    "    # Replace contractions with their longer forms \n",
    "    if True:\n",
    "        text = text.split()\n",
    "        new_text = []\n",
    "        for word in text:\n",
    "            if word in contractions:\n",
    "                new_text.append(contractions[word])\n",
    "            else:\n",
    "                new_text.append(word)\n",
    "        text = \" \".join(new_text)\n",
    "    \n",
    "    # Format words and remove unwanted characters\n",
    "    text = re.sub(r'https?:\\/\\/.*[\\r\\n]*', '', text, flags=re.MULTILINE)\n",
    "    text = re.sub(r'\\<a href', ' ', text)\n",
    "    text = re.sub(r'&amp;', '', text) \n",
    "    text = re.sub(r'[_\"\\-;%()|+&=*%.,!?:#$@\\[\\]/]', ' ', text)\n",
    "    text = re.sub(r'<br />', ' ', text)\n",
    "    text = re.sub(r'\\'', ' ', text)\n",
    "    \n",
    "    # Optionally, remove stop words\n",
    "    if remove_stopwords:\n",
    "        text = text.split()\n",
    "        stops = set(stopwords.words(\"english\"))\n",
    "        text = [w for w in text if not w in stops]\n",
    "        text = \" \".join(text)\n",
    "        \n",
    "    # \n",
    "    \n",
    "        return text"
   ]
  },
  {
   "cell_type": "code",
   "execution_count": 18,
   "id": "e0943e0b",
   "metadata": {},
   "outputs": [
    {
     "data": {
      "text/html": [
       "<div>\n",
       "<style scoped>\n",
       "    .dataframe tbody tr th:only-of-type {\n",
       "        vertical-align: middle;\n",
       "    }\n",
       "\n",
       "    .dataframe tbody tr th {\n",
       "        vertical-align: top;\n",
       "    }\n",
       "\n",
       "    .dataframe thead th {\n",
       "        text-align: right;\n",
       "    }\n",
       "</style>\n",
       "<table border=\"1\" class=\"dataframe\">\n",
       "  <thead>\n",
       "    <tr style=\"text-align: right;\">\n",
       "      <th></th>\n",
       "      <th>Review</th>\n",
       "      <th>sentiment</th>\n",
       "    </tr>\n",
       "  </thead>\n",
       "  <tbody>\n",
       "    <tr>\n",
       "      <th>0</th>\n",
       "      <td>using dreamweaver predecessor macromedia ultra...</td>\n",
       "      <td>1</td>\n",
       "    </tr>\n",
       "    <tr>\n",
       "      <th>1</th>\n",
       "      <td>demo done pc version references mac version ne...</td>\n",
       "      <td>1</td>\n",
       "    </tr>\n",
       "    <tr>\n",
       "      <th>2</th>\n",
       "      <td>wanting learn create website either lacked con...</td>\n",
       "      <td>1</td>\n",
       "    </tr>\n",
       "    <tr>\n",
       "      <th>3</th>\n",
       "      <td>creating websites dreamweaver years experience...</td>\n",
       "      <td>1</td>\n",
       "    </tr>\n",
       "    <tr>\n",
       "      <th>4</th>\n",
       "      <td>decided trying number products switch gold sta...</td>\n",
       "      <td>1</td>\n",
       "    </tr>\n",
       "  </tbody>\n",
       "</table>\n",
       "</div>"
      ],
      "text/plain": [
       "                                              Review  sentiment\n",
       "0  using dreamweaver predecessor macromedia ultra...          1\n",
       "1  demo done pc version references mac version ne...          1\n",
       "2  wanting learn create website either lacked con...          1\n",
       "3  creating websites dreamweaver years experience...          1\n",
       "4  decided trying number products switch gold sta...          1"
      ]
     },
     "execution_count": 18,
     "metadata": {},
     "output_type": "execute_result"
    }
   ],
   "source": [
    "product_reviews_new_df['Review']=product_reviews_new_df['Review'].apply(lambda x:clean_text(x))\n",
    "product_reviews_new_df.head()"
   ]
  },
  {
   "cell_type": "code",
   "execution_count": 19,
   "id": "5db6645b",
   "metadata": {},
   "outputs": [
    {
     "data": {
      "text/plain": [
       "'using dreamweaver predecessor macromedia ultradev many years someone experienced web designer course high level review cs5 version dreamweaver go great enough level detail find useful hand great tool someone relative novice web design starts basic overview html continues concepts necessary build modern web site someone goes course exit enough knowledge create something want within reason expect go build entire e commerce system class belt important note long gap site design actual implementation course teaches implement design user interface overall user experience different subject covered possible great implementation absolutely abysmal design speak experience said novice relative newcomer experienced web designer wants refresher course good way solid overview dreamweaver cs5'"
      ]
     },
     "execution_count": 19,
     "metadata": {},
     "output_type": "execute_result"
    }
   ],
   "source": [
    "product_reviews_new_df['Review'][0]"
   ]
  },
  {
   "cell_type": "code",
   "execution_count": 20,
   "id": "a8cd0c9d",
   "metadata": {},
   "outputs": [
    {
     "name": "stdout",
     "output_type": "stream",
     "text": [
      "No. of training examples: 8960\n",
      "No. of testing examples: 2240\n"
     ]
    }
   ],
   "source": [
    "from sklearn.model_selection import train_test_split\n",
    "\n",
    "training_data, testing_data = train_test_split(product_reviews_new_df, test_size=0.2, random_state=25)\n",
    "\n",
    "print(f\"No. of training examples: {training_data.shape[0]}\")\n",
    "print(f\"No. of testing examples: {testing_data.shape[0]}\")"
   ]
  },
  {
   "cell_type": "code",
   "execution_count": 21,
   "id": "673f7de4",
   "metadata": {},
   "outputs": [],
   "source": [
    "# count vectorizer:\n",
    "from sklearn.feature_extraction.text import CountVectorizer\n",
    "vectorizer = CountVectorizer(token_pattern=r'\\b\\w+\\b')\n",
    "train_matrix = vectorizer.fit_transform(training_data['Review'])\n",
    "test_matrix = vectorizer.transform(testing_data['Review'])"
   ]
  },
  {
   "cell_type": "code",
   "execution_count": 23,
   "id": "0c9b78c0",
   "metadata": {},
   "outputs": [],
   "source": [
    "# Splitting the target and indpendent variables\n",
    "X_train = train_matrix\n",
    "X_test = test_matrix\n",
    "y_train = training_data['sentiment']\n",
    "y_test = testing_data['sentiment']"
   ]
  },
  {
   "cell_type": "code",
   "execution_count": 24,
   "id": "e51abab2",
   "metadata": {},
   "outputs": [
    {
     "data": {
      "text/plain": [
       "RandomForestClassifier(criterion='entropy', n_estimators=10)"
      ]
     },
     "execution_count": 24,
     "metadata": {},
     "output_type": "execute_result"
    }
   ],
   "source": [
    "from sklearn.ensemble import RandomForestClassifier\n",
    "classifier = RandomForestClassifier(n_estimators = 10, criterion = 'entropy')\n",
    "classifier.fit(X_train, y_train)"
   ]
  },
  {
   "cell_type": "code",
   "execution_count": 32,
   "id": "603f9f31",
   "metadata": {},
   "outputs": [
    {
     "data": {
      "text/plain": [
       "array([1, 1, 1, ..., 1, 1, 1])"
      ]
     },
     "execution_count": 32,
     "metadata": {},
     "output_type": "execute_result"
    }
   ],
   "source": [
    "predictions = classifier.predict(X_test) \n",
    "predictions"
   ]
  },
  {
   "cell_type": "code",
   "execution_count": 33,
   "id": "89515457",
   "metadata": {},
   "outputs": [
    {
     "data": {
      "text/plain": [
       "array([[ 253,   48],\n",
       "       [ 203, 1736]])"
      ]
     },
     "execution_count": 33,
     "metadata": {},
     "output_type": "execute_result"
    }
   ],
   "source": [
    "# Test accuracy of the model\n",
    "from sklearn.metrics import confusion_matrix,classification_report\n",
    "new = np.asarray(y_test)\n",
    "confusion_matrix(predictions,y_test)"
   ]
  },
  {
   "cell_type": "code",
   "execution_count": 34,
   "id": "be667451",
   "metadata": {
    "scrolled": true
   },
   "outputs": [
    {
     "name": "stdout",
     "output_type": "stream",
     "text": [
      "              precision    recall  f1-score   support\n",
      "\n",
      "          -1       0.55      0.84      0.67       301\n",
      "           1       0.97      0.90      0.93      1939\n",
      "\n",
      "    accuracy                           0.89      2240\n",
      "   macro avg       0.76      0.87      0.80      2240\n",
      "weighted avg       0.92      0.89      0.90      2240\n",
      "\n"
     ]
    }
   ],
   "source": [
    "print(classification_report(predictions,y_test))"
   ]
  },
  {
   "cell_type": "code",
   "execution_count": null,
   "id": "10cc34f8",
   "metadata": {},
   "outputs": [],
   "source": []
  }
 ],
 "metadata": {
  "kernelspec": {
   "display_name": "mlenv",
   "language": "python",
   "name": "mlenv"
  },
  "language_info": {
   "codemirror_mode": {
    "name": "ipython",
    "version": 3
   },
   "file_extension": ".py",
   "mimetype": "text/x-python",
   "name": "python",
   "nbconvert_exporter": "python",
   "pygments_lexer": "ipython3",
   "version": "3.7.11"
  }
 },
 "nbformat": 4,
 "nbformat_minor": 5
}

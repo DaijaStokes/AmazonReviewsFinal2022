{
 "cells": [
  {
   "cell_type": "code",
   "execution_count": null,
   "id": "eccb3b0c",
   "metadata": {},
   "outputs": [],
   "source": [
    "import argparse\n",
    "import json\n",
    "import csv\n",
    "\n",
    "def convert_data(my_json, my_csv):\n",
    "    input_json = open(my_json, \"r\", encoding=\"utf-8\")\n",
    "    with open(my_csv, \"w\", encoding=\"utf-8\") as output_csv:\n",
    "        csv_writer = csv.writer(output_csv)\n",
    "        flag = 0\n",
    "        for line in input_json.readlines():\n",
    "            dic = json.loads(line)\n",
    "            # writing headline in the beginning\n",
    "            if flag == 0:\n",
    "                csv_writer.writerow(dic)\n",
    "                flag = 1\n",
    "            csv_writer.writerow(dic.values())\n",
    "\n",
    "if __name__ == '__main__':\n",
    "    parser = argparse.ArgumentParser()\n",
    "    parser.add_argument('--json',\n",
    "                        default='reviews_Clothing_Shoes_and_Jewelry_5.json',\n",
    "                        help='XXXX.json, XXXX is the file name')\n",
    "    parser.add_argument('--csv',\n",
    "                        default='output.csv',\n",
    "                        help='XXXX.csv, XXXX is the file name')\n",
    "    args = parser.parse_args()\n",
    "    \n",
    "    convert_data(args.json, args.csv)\n",
    "    print(\"Convert Success\")"
   ]
  }
 ],
 "metadata": {
  "kernelspec": {
   "display_name": "PythonData",
   "language": "python",
   "name": "pythondata"
  },
  "language_info": {
   "codemirror_mode": {
    "name": "ipython",
    "version": 3
   },
   "file_extension": ".py",
   "mimetype": "text/x-python",
   "name": "python",
   "nbconvert_exporter": "python",
   "pygments_lexer": "ipython3",
   "version": "3.7.11"
  }
 },
 "nbformat": 4,
 "nbformat_minor": 5
}
